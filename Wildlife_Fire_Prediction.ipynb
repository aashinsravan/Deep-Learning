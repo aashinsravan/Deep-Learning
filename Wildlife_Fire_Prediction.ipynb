{
  "cells": [
    {
      "cell_type": "markdown",
      "metadata": {
        "id": "view-in-github",
        "colab_type": "text"
      },
      "source": [
        "<a href=\"https://colab.research.google.com/github/aashinsravan/Deep-Learning/blob/main/Wildlife_Fire_Prediction.ipynb\" target=\"_parent\"><img src=\"https://colab.research.google.com/assets/colab-badge.svg\" alt=\"Open In Colab\"/></a>"
      ]
    },
    {
      "cell_type": "markdown",
      "metadata": {
        "id": "ln0STPG_CqVl"
      },
      "source": [
        "# Kaggle Installation"
      ]
    },
    {
      "cell_type": "code",
      "execution_count": 1,
      "metadata": {
        "colab": {
          "base_uri": "https://localhost:8080/"
        },
        "id": "n2Q2_haU9oyE",
        "outputId": "4ecc0734-84e3-4711-d165-0d8d9bc64492"
      },
      "outputs": [
        {
          "output_type": "stream",
          "name": "stdout",
          "text": [
            "Looking in indexes: https://pypi.org/simple, https://us-python.pkg.dev/colab-wheels/public/simple/\n",
            "Requirement already satisfied: kaggle in /usr/local/lib/python3.9/dist-packages (1.5.13)\n",
            "Requirement already satisfied: python-slugify in /usr/local/lib/python3.9/dist-packages (from kaggle) (8.0.1)\n",
            "Requirement already satisfied: urllib3 in /usr/local/lib/python3.9/dist-packages (from kaggle) (1.26.15)\n",
            "Requirement already satisfied: requests in /usr/local/lib/python3.9/dist-packages (from kaggle) (2.27.1)\n",
            "Requirement already satisfied: tqdm in /usr/local/lib/python3.9/dist-packages (from kaggle) (4.65.0)\n",
            "Requirement already satisfied: python-dateutil in /usr/local/lib/python3.9/dist-packages (from kaggle) (2.8.2)\n",
            "Requirement already satisfied: certifi in /usr/local/lib/python3.9/dist-packages (from kaggle) (2022.12.7)\n",
            "Requirement already satisfied: six>=1.10 in /usr/local/lib/python3.9/dist-packages (from kaggle) (1.16.0)\n",
            "Requirement already satisfied: text-unidecode>=1.3 in /usr/local/lib/python3.9/dist-packages (from python-slugify->kaggle) (1.3)\n",
            "Requirement already satisfied: idna<4,>=2.5 in /usr/local/lib/python3.9/dist-packages (from requests->kaggle) (3.4)\n",
            "Requirement already satisfied: charset-normalizer~=2.0.0 in /usr/local/lib/python3.9/dist-packages (from requests->kaggle) (2.0.12)\n"
          ]
        }
      ],
      "source": [
        " ! pip install kaggle"
      ]
    },
    {
      "cell_type": "markdown",
      "metadata": {
        "id": "LXO2f2pxCxCH"
      },
      "source": [
        "# Mounting the Drive and Loading the Dataset"
      ]
    },
    {
      "cell_type": "code",
      "execution_count": 2,
      "metadata": {
        "colab": {
          "base_uri": "https://localhost:8080/"
        },
        "id": "CASp-JJR-p32",
        "outputId": "30640829-c262-4fc1-9ad6-c6089f724969"
      },
      "outputs": [
        {
          "output_type": "stream",
          "name": "stdout",
          "text": [
            "Mounted at /content/drive\n"
          ]
        }
      ],
      "source": [
        "from google.colab import drive\n",
        "drive.mount('/content/drive')"
      ]
    },
    {
      "cell_type": "code",
      "execution_count": 3,
      "metadata": {
        "id": "iZLycxTf_Xex"
      },
      "outputs": [],
      "source": [
        "! mkdir ~/.kaggle\n"
      ]
    },
    {
      "cell_type": "code",
      "execution_count": 4,
      "metadata": {
        "id": "3hHWs8Lj_pLi"
      },
      "outputs": [],
      "source": [
        "! cp /content/drive/MyDrive/Colab\\ Notebooks/kaggle_API/kaggle.json ~/.kaggle/kaggle.json"
      ]
    },
    {
      "cell_type": "code",
      "execution_count": 5,
      "metadata": {
        "id": "W4yetQ65BgjV"
      },
      "outputs": [],
      "source": [
        "! chmod 600 ~/.kaggle/kaggle.json"
      ]
    },
    {
      "cell_type": "code",
      "execution_count": 6,
      "metadata": {
        "colab": {
          "base_uri": "https://localhost:8080/"
        },
        "id": "APOs5GNNByv1",
        "outputId": "502d1ace-502e-4973-dc3a-41deacfcbb91"
      },
      "outputs": [
        {
          "output_type": "stream",
          "name": "stdout",
          "text": [
            "Downloading wildfire-prediction-dataset.zip to /content\n",
            "100% 1.44G/1.45G [01:23<00:00, 21.5MB/s]\n",
            "100% 1.45G/1.45G [01:23<00:00, 18.6MB/s]\n"
          ]
        }
      ],
      "source": [
        "#Downloading the dataset\n",
        "!kaggle datasets download -d abdelghaniaaba/wildfire-prediction-dataset"
      ]
    },
    {
      "cell_type": "code",
      "execution_count": null,
      "metadata": {
        "id": "fGPtlW1fCDQi"
      },
      "outputs": [],
      "source": [
        "#Unzipping the dataset\n",
        "!unzip wildfire-prediction-dataset.zip -d /content"
      ]
    },
    {
      "cell_type": "markdown",
      "metadata": {
        "id": "nQSK60OyFqk0"
      },
      "source": [
        "# Loading Libraries"
      ]
    },
    {
      "cell_type": "code",
      "execution_count": 6,
      "metadata": {
        "id": "8Zhx8L-ZFpsF"
      },
      "outputs": [],
      "source": [
        "import tensorflow as tf\n",
        "from tensorflow.keras.preprocessing.image import ImageDataGenerator\n",
        "from tensorflow.keras.models import Sequential\n",
        "from tensorflow.keras.layers import Conv2D, MaxPooling2D, Flatten, Dense, Dropout\n",
        "from tensorflow.keras.callbacks import EarlyStopping, ModelCheckpoint\n",
        "import numpy as np\n",
        "from sklearn.metrics import confusion_matrix, classification_report\n",
        "from keras.optimizers import SGD, adam\n"
      ]
    },
    {
      "cell_type": "markdown",
      "metadata": {
        "id": "5bFWH-AFDQul"
      },
      "source": [
        "# Pre-Processing"
      ]
    },
    {
      "cell_type": "markdown",
      "metadata": {
        "id": "_Oc9-qGJh4_U"
      },
      "source": [
        "Parameters"
      ]
    },
    {
      "cell_type": "code",
      "execution_count": 3,
      "metadata": {
        "id": "1DHlIWa2h4e2"
      },
      "outputs": [],
      "source": [
        "EPOCH= 2\n",
        "BATCH_SIZE= 64\n",
        "TRGT_SIZE =(64,64)"
      ]
    },
    {
      "cell_type": "markdown",
      "metadata": {
        "id": "dE3Ftw4oEs3s"
      },
      "source": [
        "Assigning the paths"
      ]
    },
    {
      "cell_type": "code",
      "execution_count": 4,
      "metadata": {
        "id": "XCkKmr2cDWJF"
      },
      "outputs": [],
      "source": [
        "train_path='/content/train'\n",
        "test_path='/content/test'\n",
        "val_path='/content/valid'"
      ]
    },
    {
      "cell_type": "markdown",
      "metadata": {
        "id": "3AqJsxDDFdiJ"
      },
      "source": [
        "Setting up image data generator"
      ]
    },
    {
      "cell_type": "code",
      "execution_count": 22,
      "metadata": {
        "colab": {
          "base_uri": "https://localhost:8080/"
        },
        "id": "2b_xdnEbFdCy",
        "outputId": "d0a3c406-3229-4b5a-d85a-65e1a6e552f9"
      },
      "outputs": [
        {
          "output_type": "stream",
          "name": "stdout",
          "text": [
            "Found 30250 images belonging to 2 classes.\n",
            "Found 6300 images belonging to 2 classes.\n",
            "Found 6300 images belonging to 2 classes.\n"
          ]
        }
      ],
      "source": [
        "train_datagen= ImageDataGenerator(rescale=1./255,\n",
        "                                  shear_range=0.2, \n",
        "                                  zoom_range=0.2, \n",
        "                                  horizontal_flip=True,\n",
        "                                  rotation_range=75)\n",
        "\n",
        "test_datagen= ImageDataGenerator(rescale=1./255)\n",
        "\n",
        "train_generator=train_datagen.flow_from_directory(train_path, \n",
        "                                                  target_size=TRGT_SIZE, \n",
        "                                                  batch_size=BATCH_SIZE, \n",
        "                                                  class_mode='categorical',\n",
        "                                                  shuffle=True)\n",
        "\n",
        "val_generator = test_datagen.flow_from_directory(val_path,\n",
        "                                                  target_size=TRGT_SIZE,\n",
        "                                                  batch_size=BATCH_SIZE,\n",
        "                                                  class_mode='categorical',\n",
        "                                                  shuffle=False)\n",
        "\n",
        "test_generator = test_datagen.flow_from_directory(test_path,\n",
        "                                                   target_size=TRGT_SIZE,\n",
        "                                                   batch_size=BATCH_SIZE,\n",
        "                                                   class_mode='categorical',\n",
        "                                                   shuffle=False)\n"
      ]
    },
    {
      "cell_type": "markdown",
      "metadata": {
        "id": "rt7ttNNDQFbc"
      },
      "source": [
        "# Defining the Model"
      ]
    },
    {
      "cell_type": "code",
      "execution_count": 23,
      "metadata": {
        "colab": {
          "base_uri": "https://localhost:8080/"
        },
        "id": "R8YhdA-4QHRA",
        "outputId": "e23d2667-e7b7-4365-8c07-9dd54ba2c9fb"
      },
      "outputs": [
        {
          "output_type": "stream",
          "name": "stdout",
          "text": [
            "Model: \"sequential_2\"\n",
            "_________________________________________________________________\n",
            " Layer (type)                Output Shape              Param #   \n",
            "=================================================================\n",
            " conv2d_6 (Conv2D)           (None, 62, 62, 64)        1792      \n",
            "                                                                 \n",
            " max_pooling2d_6 (MaxPooling  (None, 31, 31, 64)       0         \n",
            " 2D)                                                             \n",
            "                                                                 \n",
            " conv2d_7 (Conv2D)           (None, 29, 29, 128)       73856     \n",
            "                                                                 \n",
            " max_pooling2d_7 (MaxPooling  (None, 14, 14, 128)      0         \n",
            " 2D)                                                             \n",
            "                                                                 \n",
            " conv2d_8 (Conv2D)           (None, 12, 12, 256)       295168    \n",
            "                                                                 \n",
            " max_pooling2d_8 (MaxPooling  (None, 6, 6, 256)        0         \n",
            " 2D)                                                             \n",
            "                                                                 \n",
            " flatten_2 (Flatten)         (None, 9216)              0         \n",
            "                                                                 \n",
            " dense_4 (Dense)             (None, 128)               1179776   \n",
            "                                                                 \n",
            " dropout_2 (Dropout)         (None, 128)               0         \n",
            "                                                                 \n",
            " dense_5 (Dense)             (None, 2)                 258       \n",
            "                                                                 \n",
            "=================================================================\n",
            "Total params: 1,550,850\n",
            "Trainable params: 1,550,850\n",
            "Non-trainable params: 0\n",
            "_________________________________________________________________\n"
          ]
        }
      ],
      "source": [
        "model=Sequential()\n",
        "\n",
        "model.add(Conv2D(64, (3,3), activation='relu', kernel_initializer='he_uniform', input_shape=(64,64,3)))\n",
        "model.add(MaxPooling2D(pool_size=(2, 2)))\n",
        "\n",
        "model.add(Conv2D(128, (3, 3), activation='relu',  kernel_initializer='he_uniform'))\n",
        "model.add(MaxPooling2D(pool_size=(2, 2)))\n",
        "\n",
        "model.add(Conv2D(256, (3, 3), activation='relu',  kernel_initializer='he_uniform'))\n",
        "model.add(MaxPooling2D(pool_size=(2, 2)))\n",
        "\n",
        "model.add(Flatten())\n",
        "\n",
        "model.add(Dense(units=128, activation='relu'))\n",
        "model.add(Dropout(0.2))\n",
        "model.add(Dense(units=2, activation='softmax'))\n",
        "\n",
        "model.summary()\n"
      ]
    },
    {
      "cell_type": "markdown",
      "metadata": {
        "id": "XFlNKZq3SlA2"
      },
      "source": [
        "# Compiling the Model\n"
      ]
    },
    {
      "cell_type": "code",
      "execution_count": 24,
      "metadata": {
        "id": "stqAohC9Sm04"
      },
      "outputs": [],
      "source": [
        "from PIL import ImageFile\n",
        "ImageFile.LOAD_TRUNCATED_IMAGES = True\n",
        "\n",
        "model.compile( optimizer='adam', loss='categorical_crossentropy', metrics=['accuracy','AUC'])"
      ]
    },
    {
      "cell_type": "markdown",
      "metadata": {
        "id": "15OJlzb3S7Ya"
      },
      "source": [
        "# Training the Model"
      ]
    },
    {
      "cell_type": "code",
      "execution_count": 25,
      "metadata": {
        "colab": {
          "base_uri": "https://localhost:8080/"
        },
        "id": "K5yJM1eXS6G9",
        "outputId": "f1a826c7-b8a9-407c-f415-593014692a19"
      },
      "outputs": [
        {
          "output_type": "stream",
          "name": "stdout",
          "text": [
            "Epoch 1/10\n",
            "473/473 [==============================] - ETA: 0s - loss: 0.2947 - accuracy: 0.8877 - auc: 0.9535\n",
            "Epoch 1: val_loss improved from inf to 0.26358, saving model to model.hdf5\n",
            "473/473 [==============================] - 133s 275ms/step - loss: 0.2947 - accuracy: 0.8877 - auc: 0.9535 - val_loss: 0.2636 - val_accuracy: 0.8992 - val_auc: 0.9612\n",
            "Epoch 2/10\n",
            "473/473 [==============================] - ETA: 0s - loss: 0.1875 - accuracy: 0.9291 - auc: 0.9779\n",
            "Epoch 2: val_loss improved from 0.26358 to 0.22054, saving model to model.hdf5\n",
            "473/473 [==============================] - 129s 272ms/step - loss: 0.1875 - accuracy: 0.9291 - auc: 0.9779 - val_loss: 0.2205 - val_accuracy: 0.9197 - val_auc: 0.9738\n",
            "Epoch 3/10\n",
            "473/473 [==============================] - ETA: 0s - loss: 0.1649 - accuracy: 0.9385 - auc: 0.9828\n",
            "Epoch 3: val_loss improved from 0.22054 to 0.16015, saving model to model.hdf5\n",
            "473/473 [==============================] - 131s 277ms/step - loss: 0.1649 - accuracy: 0.9385 - auc: 0.9828 - val_loss: 0.1602 - val_accuracy: 0.9430 - val_auc: 0.9837\n",
            "Epoch 4/10\n",
            "473/473 [==============================] - ETA: 0s - loss: 0.1524 - accuracy: 0.9444 - auc: 0.9852\n",
            "Epoch 4: val_loss did not improve from 0.16015\n",
            "473/473 [==============================] - 130s 275ms/step - loss: 0.1524 - accuracy: 0.9444 - auc: 0.9852 - val_loss: 0.2223 - val_accuracy: 0.9257 - val_auc: 0.9719\n",
            "Epoch 5/10\n",
            "473/473 [==============================] - ETA: 0s - loss: 0.1464 - accuracy: 0.9469 - auc: 0.9863\n",
            "Epoch 5: val_loss did not improve from 0.16015\n",
            "473/473 [==============================] - 130s 275ms/step - loss: 0.1464 - accuracy: 0.9469 - auc: 0.9863 - val_loss: 0.1993 - val_accuracy: 0.9379 - val_auc: 0.9796\n",
            "Epoch 6/10\n",
            "473/473 [==============================] - ETA: 0s - loss: 0.1417 - accuracy: 0.9484 - auc: 0.9872\n",
            "Epoch 6: val_loss did not improve from 0.16015\n",
            "473/473 [==============================] - 133s 282ms/step - loss: 0.1417 - accuracy: 0.9484 - auc: 0.9872 - val_loss: 0.2062 - val_accuracy: 0.9333 - val_auc: 0.9777\n",
            "Epoch 7/10\n",
            "473/473 [==============================] - ETA: 0s - loss: 0.1314 - accuracy: 0.9517 - auc: 0.9889\n",
            "Epoch 7: val_loss did not improve from 0.16015\n",
            "473/473 [==============================] - 130s 274ms/step - loss: 0.1314 - accuracy: 0.9517 - auc: 0.9889 - val_loss: 0.2457 - val_accuracy: 0.9167 - val_auc: 0.9696\n",
            "Epoch 8/10\n",
            "473/473 [==============================] - ETA: 0s - loss: 0.1260 - accuracy: 0.9540 - auc: 0.9896\n",
            "Epoch 8: val_loss did not improve from 0.16015\n",
            "473/473 [==============================] - 130s 275ms/step - loss: 0.1260 - accuracy: 0.9540 - auc: 0.9896 - val_loss: 0.1893 - val_accuracy: 0.9457 - val_auc: 0.9822\n",
            "Epoch 9/10\n",
            "473/473 [==============================] - ETA: 0s - loss: 0.1227 - accuracy: 0.9546 - auc: 0.9901\n",
            "Epoch 9: val_loss did not improve from 0.16015\n",
            "473/473 [==============================] - 135s 286ms/step - loss: 0.1227 - accuracy: 0.9546 - auc: 0.9901 - val_loss: 0.2086 - val_accuracy: 0.9259 - val_auc: 0.9775\n",
            "Epoch 10/10\n",
            "473/473 [==============================] - ETA: 0s - loss: 0.1190 - accuracy: 0.9562 - auc: 0.9907\n",
            "Epoch 10: val_loss did not improve from 0.16015\n",
            "473/473 [==============================] - 129s 273ms/step - loss: 0.1190 - accuracy: 0.9562 - auc: 0.9907 - val_loss: 0.1927 - val_accuracy: 0.9376 - val_auc: 0.9792\n"
          ]
        }
      ],
      "source": [
        "checkpoint = ModelCheckpoint('model.hdf5',verbose=1, save_best_only= True)\n",
        "early_stopping = EarlyStopping(monitor= 'val_loss', patience= 10)\n",
        "with tf.device('/GPU:0'):\n",
        "  history = model.fit( train_generator,\n",
        "                    epochs=10,\n",
        "                    verbose=1,\n",
        "                    validation_data = val_generator,\n",
        "                    callbacks=[checkpoint, early_stopping])"
      ]
    },
    {
      "cell_type": "markdown",
      "metadata": {
        "id": "QobjMv7SFko8"
      },
      "source": [
        "# Plotting"
      ]
    },
    {
      "cell_type": "code",
      "execution_count": 26,
      "metadata": {
        "id": "TF7KtISoFkZ5",
        "colab": {
          "base_uri": "https://localhost:8080/",
          "height": 468
        },
        "outputId": "04cbe5ac-06a6-4960-a2ca-e1d9d0d9ca3c"
      },
      "outputs": [
        {
          "output_type": "display_data",
          "data": {
            "text/plain": [
              "<Figure size 640x480 with 1 Axes>"
            ],
            "image/png": "[encoded data removed]"
          },
          "metadata": {}
        }
      ],
      "source": [
        "import matplotlib.pyplot as plt\n",
        "plt.plot(history.history['accuracy'], label = 'train',)\n",
        "plt.plot(history.history['val_accuracy'], label = 'valid')\n",
        "\n",
        "# adding legend and labels\n",
        "plt.legend(loc = 'lower right')\n",
        "plt.xlabel('epochs')\n",
        "plt.ylabel('accuracy')\n",
        "\n",
        "# show the plot\n",
        "plt.show()   "
      ]
    },
    {
      "cell_type": "markdown",
      "metadata": {
        "id": "GDKjXWnCL9Tg"
      },
      "source": [
        "# Testing the Test Set"
      ]
    },
    {
      "cell_type": "markdown",
      "metadata": {
        "id": "VgzGrD35R9DE"
      },
      "source": [
        "Classification Report"
      ]
    },
    {
      "cell_type": "code",
      "execution_count": 27,
      "metadata": {
        "id": "6koeP3U_QMMZ",
        "colab": {
          "base_uri": "https://localhost:8080/"
        },
        "outputId": "f0f7da96-1c2d-46b8-a33d-8cb806043e5a"
      },
      "outputs": [
        {
          "output_type": "stream",
          "name": "stdout",
          "text": [
            "99/99 [==============================] - 16s 166ms/step - loss: 0.1490 - accuracy: 0.9505 - auc: 0.9861\n",
            "Test loss: 0.1489516943693161\n",
            "Test accuracy: 0.9504761695861816\n",
            "99/99 [==============================] - 16s 162ms/step\n",
            "[0 0 0 ... 1 1 1]\n",
            "              precision    recall  f1-score   support\n",
            "\n",
            "           0       0.92      0.97      0.95      2820\n",
            "           1       0.98      0.93      0.95      3480\n",
            "\n",
            "    accuracy                           0.95      6300\n",
            "   macro avg       0.95      0.95      0.95      6300\n",
            "weighted avg       0.95      0.95      0.95      6300\n",
            "\n"
          ]
        }
      ],
      "source": [
        "from sklearn.metrics import classification_report\n",
        "from keras.models import load_model\n",
        "# Load the saved model\n",
        "model.load_weights('/content/model.hdf5')\n",
        "\n",
        "# Evaluate the model on the test set\n",
        "scores = model.evaluate(test_generator, verbose=1)\n",
        "print(f\"Test loss: {scores[0]}\")\n",
        "print(f\"Test accuracy: {scores[1]}\")\n",
        "\n",
        "# Predict the labels of the test set\n",
        "y_pred = model.predict(test_generator, verbose=1)\n",
        "y_pred = np.argmax(y_pred, axis=1)\n",
        "\n",
        "print(y_pred)\n",
        "# Compute evaluation metrics\n",
        "print(classification_report(test_generator.classes, y_pred))\n"
      ]
    },
    {
      "cell_type": "markdown",
      "metadata": {
        "id": "3MWt5LthR-2J"
      },
      "source": [
        "Confusion Matrix"
      ]
    },
    {
      "cell_type": "code",
      "execution_count": 28,
      "metadata": {
        "id": "VHrXurLPypn1",
        "colab": {
          "base_uri": "https://localhost:8080/",
          "height": 577
        },
        "outputId": "fab30dc2-8654-48f9-97f3-e6e71b3f9644"
      },
      "outputs": [
        {
          "output_type": "stream",
          "name": "stdout",
          "text": [
            "99/99 [==============================] - 16s 162ms/step\n"
          ]
        },
        {
          "output_type": "display_data",
          "data": {
            "text/plain": [
              "<Figure size 800x600 with 2 Axes>"
            ],
            "image/png": "[encoded data removed]"
          },
          "metadata": {}
        }
      ],
      "source": [
        "import matplotlib.pyplot as plt\n",
        "import seaborn as sns\n",
        "\n",
        "# Load the saved model\n",
        "model.load_weights('model.hdf5')\n",
        "\n",
        "# Predict the labels of the test set\n",
        "y_pred = model.predict(test_generator, steps=len(test_generator), verbose=1)\n",
        "y_pred = np.argmax(y_pred, axis=1)\n",
        "\n",
        "# Compute the confusion matrix\n",
        "cm = confusion_matrix(test_generator.classes, y_pred)\n",
        "\n",
        "# Define class labels\n",
        "class_names = ['Non-Fire', 'Fire']\n",
        "\n",
        "# Plot the confusion matrix as a heatmap\n",
        "plt.figure(figsize=(8, 6))\n",
        "sns.set(font_scale=1.4)\n",
        "sns.heatmap(cm, annot=True, fmt='g', cmap='Blues', xticklabels=class_names, yticklabels=class_names)\n",
        "plt.xlabel('Predicted labels')\n",
        "plt.ylabel('True labels')\n",
        "plt.show()\n"
      ]
    }
  ],
  "metadata": {
    "colab": {
      "provenance": [],
      "include_colab_link": true
    },
    "gpuClass": "standard",
    "kernelspec": {
      "display_name": "Python 3",
      "name": "python3"
    },
    "language_info": {
      "name": "python"
    },
    "accelerator": "GPU"
  },
  "nbformat": 4,
  "nbformat_minor": 0
}